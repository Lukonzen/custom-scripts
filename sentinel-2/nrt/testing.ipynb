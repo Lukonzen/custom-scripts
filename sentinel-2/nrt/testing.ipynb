{
 "cells": [
  {
   "cell_type": "code",
   "execution_count": 6,
   "metadata": {},
   "outputs": [],
   "source": [
    "from hypothesis import given, strategies as st\n",
    "import datetime as dt\n",
    "from py_mini_racer import MiniRacer"
   ]
  },
  {
   "cell_type": "code",
   "execution_count": 105,
   "metadata": {},
   "outputs": [
    {
     "name": "stdout",
     "output_type": "stream",
     "text": [
      "([{'B04': 1e-05, 'B08': 1.192092896e-07, 'DN': 1516, 'dataMask': 0}, {'B04': 0.3333333333333333, 'B08': 2.2250738585e-313, 'DN': 6375, 'dataMask': 1}, {'B04': 0.9999999999999999, 'B08': 2.3048221737430114e-202, 'DN': 4926, 'dataMask': 1}, {'B04': 5e-324, 'B08': 2.3992771060874777e-283, 'DN': 4910, 'dataMask': 1}, {'B04': 2.2250738585072014e-308, 'B08': 1.0, 'DN': 2211, 'dataMask': 0}], {'from': '2007-10-24T10:16:35.357530', 'to': '2012-06-13T02:51:59.665859', 'orbits': [{'dateFrom': '2007-10-29T00:00:00', 'dateTo': '2007-10-29T23:59:59', 'tile': {'cloudCoverage': 99.99999999999999, 'date': '2007-10-29T06:26:00.177805'}}, {'dateFrom': '2007-12-30T00:00:00', 'dateTo': '2007-12-30T23:59:59', 'tile': {'cloudCoverage': 2.00001, 'date': '2007-12-30T11:42:35.996178'}}, {'dateFrom': '2009-11-17T00:00:00', 'dateTo': '2009-11-17T23:59:59', 'tile': {'cloudCoverage': 2.2250738585072014e-308, 'date': '2009-11-17T18:43:39.906037'}}, {'dateFrom': '2012-02-10T00:00:00', 'dateTo': '2012-02-10T23:59:59', 'tile': {'cloudCoverage': 1.9, 'date': '2012-02-10T07:25:26.455632'}}, {'dateFrom': '2008-01-22T00:00:00', 'dateTo': '2008-01-22T23:59:59', 'tile': {'cloudCoverage': 5.960464477539063e-08, 'date': '2008-01-22T12:37:43.219883'}}]})\n"
     ]
    }
   ],
   "source": [
    "@st.composite\n",
    "def scenes(draw, start=dt.datetime(1970,1,1), end=dt.datetime.now()):\n",
    "    date = draw(st.datetimes(start, end))\n",
    "    dateFrom = date.replace(hour=0, minute=0, second=0, microsecond=0)\n",
    "    dateTo = date.replace(hour=23, minute=59, second=59, microsecond=0)\n",
    "    tile = dict(cloudCoverage=draw(st.floats(0, 100)), date=date.isoformat())\n",
    "    return dict(\n",
    "        dateFrom=dateFrom.isoformat(), \n",
    "        dateTo=dateTo.isoformat(), \n",
    "        tile=tile)\n",
    "\n",
    "\n",
    "@st.composite\n",
    "def orbit_scenes_eval(draw, n, min_value=dt.datetime(1970,1,1), max_value=dt.datetime.now()):\n",
    "    start = draw(st.datetimes(min_value=min_value, max_value=max_value))\n",
    "    end = draw(st.datetimes(min_value=start, max_value=max_value))\n",
    "    return {\n",
    "        \"from\": start.isoformat(),\n",
    "        \"to\": end.isoformat(),\n",
    "        \"orbits\": draw(st.lists(\n",
    "            scenes(start=start, end=end),\n",
    "            min_size=n,\n",
    "            max_size=n))\n",
    "        }\n",
    "\n",
    "\n",
    "@st.composite\n",
    "def orbit(draw, values, n_min=1, min_value=dt.datetime(1970,1,1), max_value=dt.datetime.now()):\n",
    "    timeseries = draw(st.lists(values, min_size=n_min))\n",
    "    n = len(timeseries)\n",
    "    scenes = draw(orbit_scenes_eval(n, min_value, max_value))\n",
    "    return timeseries, scenes\n",
    "\n",
    "print(orbit(observations).example())\n",
    "\n",
    "\n",
    "observations = st.fixed_dictionaries({\n",
    "    \"B04\": st.floats(0, 1),\n",
    "    \"B08\": st.floats(0, 1),\n",
    "    \"DN\": st.integers(0, 8000),\n",
    "    \"dataMask\": st.sampled_from((0,1)) # If only certain numbers are allowed use sampled_from\n",
    "    })"
   ]
  },
  {
   "cell_type": "code",
   "execution_count": 98,
   "metadata": {},
   "outputs": [
    {
     "data": {
      "text/plain": [
       "[{'dateFrom': '1991-01-25T00:00:00',\n",
       "  'dateTo': '1991-01-25T23:59:59',\n",
       "  'tile': {'cloudCoverage': 0.0, 'date': '1991-01-25T01:54:57.447582'}},\n",
       " {'dateFrom': '1979-12-23T00:00:00',\n",
       "  'dateTo': '1979-12-23T23:59:59',\n",
       "  'tile': {'cloudCoverage': 5e-324, 'date': '1979-12-23T20:04:14.523567'}},\n",
       " {'dateFrom': '2005-01-22T00:00:00',\n",
       "  'dateTo': '2005-01-22T23:59:59',\n",
       "  'tile': {'cloudCoverage': 1.401298464324817e-45,\n",
       "   'date': '2005-01-22T10:20:40.380350'}},\n",
       " {'dateFrom': '1999-03-06T00:00:00',\n",
       "  'dateTo': '1999-03-06T23:59:59',\n",
       "  'tile': {'cloudCoverage': 1.0, 'date': '1999-03-06T09:43:50.707313'}},\n",
       " {'dateFrom': '1985-03-31T00:00:00',\n",
       "  'dateTo': '1985-03-31T23:59:59',\n",
       "  'tile': {'cloudCoverage': 99.0, 'date': '1985-03-31T17:30:14.654062'}}]"
      ]
     },
     "execution_count": 98,
     "metadata": {},
     "output_type": "execute_result"
    }
   ],
   "source": [
    "@st.composite\n",
    "def scenes(draw, start=dt.datetime(1970,1,1), end=dt.datetime.now()):\n",
    "    date = draw(st.datetimes(start, end))\n",
    "    dateFrom = date.replace(hour=0, minute=0, second=0, microsecond=0)\n",
    "    dateTo = date.replace(hour=23, minute=59, second=59, microsecond=0)\n",
    "    tile = dict(cloudCoverage=draw(st.floats(0, 100)), date=date.isoformat())\n",
    "    return dict(\n",
    "        dateFrom=dateFrom.isoformat(), \n",
    "        dateTo=dateTo.isoformat(), \n",
    "        tile=tile)\n",
    "st.lists(scenes()).example()\n",
    "    "
   ]
  },
  {
   "cell_type": "code",
   "execution_count": 81,
   "metadata": {},
   "outputs": [
    {
     "data": {
      "text/plain": [
       "[{'B04': 0.0, 'B08': 0.0, 'DN': 0, 'dataMask': 0},\n",
       " {'B04': 0.0, 'B08': 0.0, 'DN': 0, 'dataMask': 0},\n",
       " {'B04': 0.0, 'B08': 0.0, 'DN': 0, 'dataMask': 0},\n",
       " {'B04': 0.0, 'B08': 0.0, 'DN': 0, 'dataMask': 0},\n",
       " {'B04': 0.0, 'B08': 0.0, 'DN': 0, 'dataMask': 0}]"
      ]
     },
     "execution_count": 81,
     "metadata": {},
     "output_type": "execute_result"
    }
   ],
   "source": [
    "observations = st.fixed_dictionaries({\n",
    "    \"B04\": st.floats(0, 1),\n",
    "    \"B08\": st.floats(0, 1),\n",
    "    \"DN\": st.integers(0, 8000),\n",
    "    \"dataMask\": st.sampled_from((0,1)) # If only certain numbers are allowed use sampled_from\n",
    "    })"
   ]
  },
  {
   "cell_type": "code",
   "execution_count": 27,
   "metadata": {},
   "outputs": [
    {
     "data": {
      "text/plain": [
       "[{'date': '1970-08-06T19:45:54.696426', '__idx': 0},\n",
       " {'date': '1970-08-06T19:45:54.696426', '__idx': 1}]"
      ]
     },
     "execution_count": 27,
     "metadata": {},
     "output_type": "execute_result"
    }
   ],
   "source": [
    "@st.composite\n",
    "def scenes(draw, min_size=1, start=dt.datetime(1970,1,1), end=dt.datetime.now()):\n",
    "    scenes_ = draw(st.lists(st.fixed_dictionaries({\n",
    "        \"date\": st.datetimes(start, end),\n",
    "        \"__idx\": st.none()}), min_size=min_size))\n",
    "    for i, scene in enumerate(scenes_):\n",
    "        scene.update(\n",
    "            {\"__idx\": i,\n",
    "            \"date\": scene[\"date\"].isoformat()})\n",
    "    return scenes_\n",
    "scenes().example()"
   ]
  },
  {
   "cell_type": "code",
   "execution_count": 24,
   "metadata": {},
   "outputs": [],
   "source": [
    "@st.composite\n",
    "def collections(draw, min_value=dt.datetime(1970,1,1), max_value=dt.datetime.now()):\n",
    "    start = draw(st.datetimes(min_value=min_value, max_value=max_value))\n",
    "    end = draw(st.datetimes(min_value=start, max_value=max_value))\n",
    "    return st.fixed_dictionaries({\n",
    "        \"from\": start.isoformat(),\n",
    "        \"to\": end.isoformat(),\n",
    "        \"scenes\": scenes(start=start, end=end)}\n",
    "    )\n"
   ]
  },
  {
   "cell_type": "code",
   "execution_count": 25,
   "metadata": {},
   "outputs": [
    {
     "ename": "InvalidArgument",
     "evalue": "Expected a SearchStrategy but got mapping['date']='2000-01-01T00:00:00' (type=str)",
     "output_type": "error",
     "traceback": [
      "\u001b[0;31m---------------------------------------------------------------------------\u001b[0m",
      "\u001b[0;31mInvalidArgument\u001b[0m                           Traceback (most recent call last)",
      "Cell \u001b[0;32mIn [25], line 1\u001b[0m\n\u001b[0;32m----> 1\u001b[0m scenes()\u001b[39m.\u001b[39;49mexample()\n",
      "File \u001b[0;32m~/mambaforge/envs/ipy/lib/python3.11/site-packages/hypothesis/strategies/_internal/strategies.py:337\u001b[0m, in \u001b[0;36mSearchStrategy.example\u001b[0;34m(self)\u001b[0m\n\u001b[1;32m    325\u001b[0m \u001b[39m@given\u001b[39m(\u001b[39mself\u001b[39m)\n\u001b[1;32m    326\u001b[0m \u001b[39m@settings\u001b[39m(\n\u001b[1;32m    327\u001b[0m     database\u001b[39m=\u001b[39m\u001b[39mNone\u001b[39;00m,\n\u001b[0;32m   (...)\u001b[0m\n\u001b[1;32m    333\u001b[0m )\n\u001b[1;32m    334\u001b[0m \u001b[39mdef\u001b[39;00m \u001b[39mexample_generating_inner_function\u001b[39m(ex):\n\u001b[1;32m    335\u001b[0m     \u001b[39mself\u001b[39m\u001b[39m.\u001b[39m__examples\u001b[39m.\u001b[39mappend(ex)\n\u001b[0;32m--> 337\u001b[0m example_generating_inner_function()\n\u001b[1;32m    338\u001b[0m shuffle(\u001b[39mself\u001b[39m\u001b[39m.\u001b[39m__examples)\n\u001b[1;32m    339\u001b[0m \u001b[39mreturn\u001b[39;00m \u001b[39mself\u001b[39m\u001b[39m.\u001b[39m__examples\u001b[39m.\u001b[39mpop()\n",
      "File \u001b[0;32m~/mambaforge/envs/ipy/lib/python3.11/site-packages/hypothesis/strategies/_internal/strategies.py:326\u001b[0m, in \u001b[0;36mSearchStrategy.example.<locals>.example_generating_inner_function\u001b[0;34m()\u001b[0m\n\u001b[1;32m    321\u001b[0m \u001b[39mfrom\u001b[39;00m \u001b[39mhypothesis\u001b[39;00m\u001b[39m.\u001b[39;00m\u001b[39mcore\u001b[39;00m \u001b[39mimport\u001b[39;00m given\n\u001b[1;32m    323\u001b[0m \u001b[39m# Note: this function has a weird name because it might appear in\u001b[39;00m\n\u001b[1;32m    324\u001b[0m \u001b[39m# tracebacks, and we want users to know that they can ignore it.\u001b[39;00m\n\u001b[1;32m    325\u001b[0m \u001b[39m@given\u001b[39m(\u001b[39mself\u001b[39m)\n\u001b[0;32m--> 326\u001b[0m \u001b[39m@settings\u001b[39m(\n\u001b[1;32m    327\u001b[0m     database\u001b[39m=\u001b[39m\u001b[39mNone\u001b[39;00m,\n\u001b[1;32m    328\u001b[0m     max_examples\u001b[39m=\u001b[39m\u001b[39m100\u001b[39m,\n\u001b[1;32m    329\u001b[0m     deadline\u001b[39m=\u001b[39m\u001b[39mNone\u001b[39;00m,\n\u001b[1;32m    330\u001b[0m     verbosity\u001b[39m=\u001b[39mVerbosity\u001b[39m.\u001b[39mquiet,\n\u001b[1;32m    331\u001b[0m     phases\u001b[39m=\u001b[39m(Phase\u001b[39m.\u001b[39mgenerate,),\n\u001b[1;32m    332\u001b[0m     suppress_health_check\u001b[39m=\u001b[39mHealthCheck\u001b[39m.\u001b[39mall(),\n\u001b[1;32m    333\u001b[0m )\n\u001b[1;32m    334\u001b[0m \u001b[39mdef\u001b[39;00m \u001b[39mexample_generating_inner_function\u001b[39m(ex):\n\u001b[1;32m    335\u001b[0m     \u001b[39mself\u001b[39m\u001b[39m.\u001b[39m__examples\u001b[39m.\u001b[39mappend(ex)\n\u001b[1;32m    337\u001b[0m example_generating_inner_function()\n",
      "    \u001b[0;31m[... skipping hidden 1 frame]\u001b[0m\n",
      "Cell \u001b[0;32mIn [23], line 3\u001b[0m, in \u001b[0;36mscenes\u001b[0;34m(draw, min_size, start, end)\u001b[0m\n\u001b[1;32m      1\u001b[0m \u001b[39m@st\u001b[39m\u001b[39m.\u001b[39mcomposite\n\u001b[1;32m      2\u001b[0m \u001b[39mdef\u001b[39;00m \u001b[39mscenes\u001b[39m(draw, min_size\u001b[39m=\u001b[39m\u001b[39m1\u001b[39m, start\u001b[39m=\u001b[39mdt\u001b[39m.\u001b[39mdatetime(\u001b[39m1970\u001b[39m,\u001b[39m1\u001b[39m,\u001b[39m1\u001b[39m), end\u001b[39m=\u001b[39mdt\u001b[39m.\u001b[39mdatetime\u001b[39m.\u001b[39mnow()):\n\u001b[0;32m----> 3\u001b[0m     scenes_ \u001b[39m=\u001b[39m draw(st\u001b[39m.\u001b[39;49mlists(st\u001b[39m.\u001b[39;49mfixed_dictionaries({\n\u001b[1;32m      4\u001b[0m         \u001b[39m\"\u001b[39;49m\u001b[39mdate\u001b[39;49m\u001b[39m\"\u001b[39;49m: draw(st\u001b[39m.\u001b[39;49mdatetimes(start, end))\u001b[39m.\u001b[39;49misoformat(),\n\u001b[1;32m      5\u001b[0m         \u001b[39m\"\u001b[39;49m\u001b[39m__idx\u001b[39;49m\u001b[39m\"\u001b[39;49m: st\u001b[39m.\u001b[39;49mnone()}), min_size\u001b[39m=\u001b[39;49mmin_size))\n\u001b[1;32m      6\u001b[0m     \u001b[39mfor\u001b[39;00m i, scene \u001b[39min\u001b[39;00m \u001b[39menumerate\u001b[39m(scenes_):\n\u001b[1;32m      7\u001b[0m         scene\u001b[39m.\u001b[39mupdate(\n\u001b[1;32m      8\u001b[0m             {\u001b[39m\"\u001b[39m\u001b[39m__idx\u001b[39m\u001b[39m\"\u001b[39m: i,\n\u001b[1;32m      9\u001b[0m             \u001b[39m\"\u001b[39m\u001b[39mdate\u001b[39m\u001b[39m\"\u001b[39m: scene[\u001b[39m\"\u001b[39m\u001b[39mdate\u001b[39m\u001b[39m\"\u001b[39m]\u001b[39m.\u001b[39misoformat()})\n",
      "File \u001b[0;32m~/mambaforge/envs/ipy/lib/python3.11/site-packages/hypothesis/internal/conjecture/data.py:927\u001b[0m, in \u001b[0;36mConjectureData.draw\u001b[0;34m(self, strategy, label)\u001b[0m\n\u001b[1;32m    920\u001b[0m \u001b[39mif\u001b[39;00m at_top_level:\n\u001b[1;32m    921\u001b[0m     \u001b[39m# We start this timer early, because accessing attributes on a LazyStrategy\u001b[39;00m\n\u001b[1;32m    922\u001b[0m     \u001b[39m# can be almost arbitrarily slow.  In cases like characters() and text()\u001b[39;00m\n\u001b[1;32m    923\u001b[0m     \u001b[39m# where we cache something expensive, this led to Flaky deadline errors!\u001b[39;00m\n\u001b[1;32m    924\u001b[0m     \u001b[39m# See https://github.com/HypothesisWorks/hypothesis/issues/2108\u001b[39;00m\n\u001b[1;32m    925\u001b[0m     start_time \u001b[39m=\u001b[39m time\u001b[39m.\u001b[39mperf_counter()\n\u001b[0;32m--> 927\u001b[0m strategy\u001b[39m.\u001b[39;49mvalidate()\n\u001b[1;32m    929\u001b[0m \u001b[39mif\u001b[39;00m strategy\u001b[39m.\u001b[39mis_empty:\n\u001b[1;32m    930\u001b[0m     \u001b[39mself\u001b[39m\u001b[39m.\u001b[39mmark_invalid()\n",
      "File \u001b[0;32m~/mambaforge/envs/ipy/lib/python3.11/site-packages/hypothesis/strategies/_internal/strategies.py:417\u001b[0m, in \u001b[0;36mSearchStrategy.validate\u001b[0;34m(self)\u001b[0m\n\u001b[1;32m    415\u001b[0m \u001b[39mtry\u001b[39;00m:\n\u001b[1;32m    416\u001b[0m     \u001b[39mself\u001b[39m\u001b[39m.\u001b[39mvalidate_called \u001b[39m=\u001b[39m \u001b[39mTrue\u001b[39;00m\n\u001b[0;32m--> 417\u001b[0m     \u001b[39mself\u001b[39;49m\u001b[39m.\u001b[39;49mdo_validate()\n\u001b[1;32m    418\u001b[0m     \u001b[39mself\u001b[39m\u001b[39m.\u001b[39mis_empty\n\u001b[1;32m    419\u001b[0m     \u001b[39mself\u001b[39m\u001b[39m.\u001b[39mhas_reusable_values\n",
      "File \u001b[0;32m~/mambaforge/envs/ipy/lib/python3.11/site-packages/hypothesis/strategies/_internal/lazy.py:129\u001b[0m, in \u001b[0;36mLazyStrategy.do_validate\u001b[0;34m(self)\u001b[0m\n\u001b[1;32m    128\u001b[0m \u001b[39mdef\u001b[39;00m \u001b[39mdo_validate\u001b[39m(\u001b[39mself\u001b[39m):\n\u001b[0;32m--> 129\u001b[0m     w \u001b[39m=\u001b[39m \u001b[39mself\u001b[39;49m\u001b[39m.\u001b[39;49mwrapped_strategy\n\u001b[1;32m    130\u001b[0m     \u001b[39massert\u001b[39;00m \u001b[39misinstance\u001b[39m(w, SearchStrategy), \u001b[39mf\u001b[39m\u001b[39m\"\u001b[39m\u001b[39m{\u001b[39;00m\u001b[39mself\u001b[39m\u001b[39m!r}\u001b[39;00m\u001b[39m returned non-strategy \u001b[39m\u001b[39m{\u001b[39;00mw\u001b[39m!r}\u001b[39;00m\u001b[39m\"\u001b[39m\n\u001b[1;32m    131\u001b[0m     w\u001b[39m.\u001b[39mvalidate()\n",
      "File \u001b[0;32m~/mambaforge/envs/ipy/lib/python3.11/site-packages/hypothesis/strategies/_internal/lazy.py:103\u001b[0m, in \u001b[0;36mLazyStrategy.wrapped_strategy\u001b[0;34m(self)\u001b[0m\n\u001b[1;32m    100\u001b[0m \u001b[39m@property\u001b[39m\n\u001b[1;32m    101\u001b[0m \u001b[39mdef\u001b[39;00m \u001b[39mwrapped_strategy\u001b[39m(\u001b[39mself\u001b[39m):\n\u001b[1;32m    102\u001b[0m     \u001b[39mif\u001b[39;00m \u001b[39mself\u001b[39m\u001b[39m.\u001b[39m__wrapped_strategy \u001b[39mis\u001b[39;00m \u001b[39mNone\u001b[39;00m:\n\u001b[0;32m--> 103\u001b[0m         unwrapped_args \u001b[39m=\u001b[39m \u001b[39mtuple\u001b[39m(unwrap_strategies(s) \u001b[39mfor\u001b[39;00m s \u001b[39min\u001b[39;00m \u001b[39mself\u001b[39m\u001b[39m.\u001b[39m__args)\n\u001b[1;32m    104\u001b[0m         unwrapped_kwargs \u001b[39m=\u001b[39m {\n\u001b[1;32m    105\u001b[0m             k: unwrap_strategies(v) \u001b[39mfor\u001b[39;00m k, v \u001b[39min\u001b[39;00m \u001b[39mself\u001b[39m\u001b[39m.\u001b[39m__kwargs\u001b[39m.\u001b[39mitems()\n\u001b[1;32m    106\u001b[0m         }\n\u001b[1;32m    108\u001b[0m         base \u001b[39m=\u001b[39m \u001b[39mself\u001b[39m\u001b[39m.\u001b[39mfunction(\u001b[39m*\u001b[39m\u001b[39mself\u001b[39m\u001b[39m.\u001b[39m__args, \u001b[39m*\u001b[39m\u001b[39m*\u001b[39m\u001b[39mself\u001b[39m\u001b[39m.\u001b[39m__kwargs)\n",
      "File \u001b[0;32m~/mambaforge/envs/ipy/lib/python3.11/site-packages/hypothesis/strategies/_internal/lazy.py:103\u001b[0m, in \u001b[0;36m<genexpr>\u001b[0;34m(.0)\u001b[0m\n\u001b[1;32m    100\u001b[0m \u001b[39m@property\u001b[39m\n\u001b[1;32m    101\u001b[0m \u001b[39mdef\u001b[39;00m \u001b[39mwrapped_strategy\u001b[39m(\u001b[39mself\u001b[39m):\n\u001b[1;32m    102\u001b[0m     \u001b[39mif\u001b[39;00m \u001b[39mself\u001b[39m\u001b[39m.\u001b[39m__wrapped_strategy \u001b[39mis\u001b[39;00m \u001b[39mNone\u001b[39;00m:\n\u001b[0;32m--> 103\u001b[0m         unwrapped_args \u001b[39m=\u001b[39m \u001b[39mtuple\u001b[39m(unwrap_strategies(s) \u001b[39mfor\u001b[39;00m s \u001b[39min\u001b[39;00m \u001b[39mself\u001b[39m\u001b[39m.\u001b[39m__args)\n\u001b[1;32m    104\u001b[0m         unwrapped_kwargs \u001b[39m=\u001b[39m {\n\u001b[1;32m    105\u001b[0m             k: unwrap_strategies(v) \u001b[39mfor\u001b[39;00m k, v \u001b[39min\u001b[39;00m \u001b[39mself\u001b[39m\u001b[39m.\u001b[39m__kwargs\u001b[39m.\u001b[39mitems()\n\u001b[1;32m    106\u001b[0m         }\n\u001b[1;32m    108\u001b[0m         base \u001b[39m=\u001b[39m \u001b[39mself\u001b[39m\u001b[39m.\u001b[39mfunction(\u001b[39m*\u001b[39m\u001b[39mself\u001b[39m\u001b[39m.\u001b[39m__args, \u001b[39m*\u001b[39m\u001b[39m*\u001b[39m\u001b[39mself\u001b[39m\u001b[39m.\u001b[39m__kwargs)\n",
      "File \u001b[0;32m~/mambaforge/envs/ipy/lib/python3.11/site-packages/hypothesis/strategies/_internal/lazy.py:42\u001b[0m, in \u001b[0;36munwrap_strategies\u001b[0;34m(s)\u001b[0m\n\u001b[1;32m     40\u001b[0m unwrap_depth \u001b[39m+\u001b[39m\u001b[39m=\u001b[39m \u001b[39m1\u001b[39m\n\u001b[1;32m     41\u001b[0m \u001b[39mtry\u001b[39;00m:\n\u001b[0;32m---> 42\u001b[0m     result \u001b[39m=\u001b[39m unwrap_strategies(s\u001b[39m.\u001b[39;49mwrapped_strategy)\n\u001b[1;32m     43\u001b[0m     unwrap_cache[s] \u001b[39m=\u001b[39m result\n\u001b[1;32m     44\u001b[0m     \u001b[39mtry\u001b[39;00m:\n",
      "File \u001b[0;32m~/mambaforge/envs/ipy/lib/python3.11/site-packages/hypothesis/strategies/_internal/lazy.py:108\u001b[0m, in \u001b[0;36mLazyStrategy.wrapped_strategy\u001b[0;34m(self)\u001b[0m\n\u001b[1;32m    103\u001b[0m unwrapped_args \u001b[39m=\u001b[39m \u001b[39mtuple\u001b[39m(unwrap_strategies(s) \u001b[39mfor\u001b[39;00m s \u001b[39min\u001b[39;00m \u001b[39mself\u001b[39m\u001b[39m.\u001b[39m__args)\n\u001b[1;32m    104\u001b[0m unwrapped_kwargs \u001b[39m=\u001b[39m {\n\u001b[1;32m    105\u001b[0m     k: unwrap_strategies(v) \u001b[39mfor\u001b[39;00m k, v \u001b[39min\u001b[39;00m \u001b[39mself\u001b[39m\u001b[39m.\u001b[39m__kwargs\u001b[39m.\u001b[39mitems()\n\u001b[1;32m    106\u001b[0m }\n\u001b[0;32m--> 108\u001b[0m base \u001b[39m=\u001b[39m \u001b[39mself\u001b[39;49m\u001b[39m.\u001b[39;49mfunction(\u001b[39m*\u001b[39;49m\u001b[39mself\u001b[39;49m\u001b[39m.\u001b[39;49m__args, \u001b[39m*\u001b[39;49m\u001b[39m*\u001b[39;49m\u001b[39mself\u001b[39;49m\u001b[39m.\u001b[39;49m__kwargs)\n\u001b[1;32m    109\u001b[0m \u001b[39mif\u001b[39;00m unwrapped_args \u001b[39m==\u001b[39m \u001b[39mself\u001b[39m\u001b[39m.\u001b[39m__args \u001b[39mand\u001b[39;00m unwrapped_kwargs \u001b[39m==\u001b[39m \u001b[39mself\u001b[39m\u001b[39m.\u001b[39m__kwargs:\n\u001b[1;32m    110\u001b[0m     \u001b[39mself\u001b[39m\u001b[39m.\u001b[39m__wrapped_strategy \u001b[39m=\u001b[39m base\n",
      "File \u001b[0;32m~/mambaforge/envs/ipy/lib/python3.11/site-packages/hypothesis/strategies/_internal/core.py:461\u001b[0m, in \u001b[0;36mfixed_dictionaries\u001b[0;34m(mapping, optional)\u001b[0m\n\u001b[1;32m    459\u001b[0m check_type(\u001b[39mdict\u001b[39m, mapping, \u001b[39m\"\u001b[39m\u001b[39mmapping\u001b[39m\u001b[39m\"\u001b[39m)\n\u001b[1;32m    460\u001b[0m \u001b[39mfor\u001b[39;00m k, v \u001b[39min\u001b[39;00m mapping\u001b[39m.\u001b[39mitems():\n\u001b[0;32m--> 461\u001b[0m     check_strategy(v, \u001b[39mf\u001b[39;49m\u001b[39m\"\u001b[39;49m\u001b[39mmapping[\u001b[39;49m\u001b[39m{\u001b[39;49;00mk\u001b[39m!r}\u001b[39;49;00m\u001b[39m]\u001b[39;49m\u001b[39m\"\u001b[39;49m)\n\u001b[1;32m    462\u001b[0m \u001b[39mif\u001b[39;00m optional \u001b[39mis\u001b[39;00m \u001b[39mnot\u001b[39;00m \u001b[39mNone\u001b[39;00m:\n\u001b[1;32m    463\u001b[0m     check_type(\u001b[39mdict\u001b[39m, optional, \u001b[39m\"\u001b[39m\u001b[39moptional\u001b[39m\u001b[39m\"\u001b[39m)\n",
      "File \u001b[0;32m~/mambaforge/envs/ipy/lib/python3.11/site-packages/hypothesis/strategies/_internal/strategies.py:990\u001b[0m, in \u001b[0;36mcheck_strategy\u001b[0;34m(arg, name)\u001b[0m\n\u001b[1;32m    988\u001b[0m \u001b[39mif\u001b[39;00m name:\n\u001b[1;32m    989\u001b[0m     name \u001b[39m+\u001b[39m\u001b[39m=\u001b[39m \u001b[39m\"\u001b[39m\u001b[39m=\u001b[39m\u001b[39m\"\u001b[39m\n\u001b[0;32m--> 990\u001b[0m \u001b[39mraise\u001b[39;00m InvalidArgument(\n\u001b[1;32m    991\u001b[0m     \u001b[39m\"\u001b[39m\u001b[39mExpected a SearchStrategy\u001b[39m\u001b[39m%s\u001b[39;00m\u001b[39m but got \u001b[39m\u001b[39m%s\u001b[39;00m\u001b[39m%r\u001b[39;00m\u001b[39m (type=\u001b[39m\u001b[39m%s\u001b[39;00m\u001b[39m)\u001b[39m\u001b[39m\"\u001b[39m\n\u001b[1;32m    992\u001b[0m     \u001b[39m%\u001b[39m (hint, name, arg, \u001b[39mtype\u001b[39m(arg)\u001b[39m.\u001b[39m\u001b[39m__name__\u001b[39m)\n\u001b[1;32m    993\u001b[0m )\n",
      "\u001b[0;31mInvalidArgument\u001b[0m: Expected a SearchStrategy but got mapping['date']='2000-01-01T00:00:00' (type=str)"
     ]
    }
   ],
   "source": [
    "scenes().example()"
   ]
  },
  {
   "cell_type": "code",
   "execution_count": null,
   "metadata": {},
   "outputs": [],
   "source": [
    "list_with_index().example()"
   ]
  },
  {
   "cell_type": "code",
   "execution_count": 64,
   "metadata": {},
   "outputs": [],
   "source": [
    "observations = st.fixed_dictionaries({\n",
    "    \"B04\": st.floats(min_value=0,max_value=1),\n",
    "    \"B08\": st.floats(min_value=0,max_value=1)})\n",
    "timeseries = st.lists(observations) "
   ]
  },
  {
   "cell_type": "code",
   "execution_count": 65,
   "metadata": {},
   "outputs": [
    {
     "data": {
      "text/plain": [
       "[{'B04': 0.0, 'B08': 0.0}]"
      ]
     },
     "execution_count": 65,
     "metadata": {},
     "output_type": "execute_result"
    }
   ],
   "source": [
    "timeseries.example()"
   ]
  },
  {
   "cell_type": "code",
   "execution_count": null,
   "metadata": {},
   "outputs": [],
   "source": [
    "ctx = MiniRacer()\n",
    "ctx.eval(evalscript)"
   ]
  },
  {
   "cell_type": "code",
   "execution_count": null,
   "metadata": {},
   "outputs": [],
   "source": [
    "ctx.call(\"evaluatePixel\", sample, scene)"
   ]
  },
  {
   "cell_type": "code",
   "execution_count": null,
   "metadata": {},
   "outputs": [],
   "source": [
    "@given(timeseries, scene)\n",
    "def test_eval(sample, scene):\n",
    "    ctx.call(\"evaluatePixel\", sample, scene)"
   ]
  }
 ],
 "metadata": {
  "kernelspec": {
   "display_name": "ipy",
   "language": "python",
   "name": "python3"
  },
  "language_info": {
   "codemirror_mode": {
    "name": "ipython",
    "version": 3
   },
   "file_extension": ".py",
   "mimetype": "text/x-python",
   "name": "python",
   "nbconvert_exporter": "python",
   "pygments_lexer": "ipython3",
   "version": "3.11.0 | packaged by conda-forge | (main, Oct 25 2022, 06:24:40) [GCC 10.4.0]"
  },
  "orig_nbformat": 4,
  "vscode": {
   "interpreter": {
    "hash": "e077f6decc03bcf608caf73ec30369fbe42a8bf40cdbe9960e26478bb731205c"
   }
  }
 },
 "nbformat": 4,
 "nbformat_minor": 2
}
