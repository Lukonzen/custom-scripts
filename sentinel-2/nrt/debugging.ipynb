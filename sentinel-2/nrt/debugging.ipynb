{
 "cells": [
  {
   "attachments": {},
   "cell_type": "markdown",
   "metadata": {},
   "source": [
    "# Debug Evalscripts locally\n",
    "\n",
    "This script allows you to more comfortably debug your evalscripts on your local machine using all powerful javascript tools which are conventionally available.\n",
    "\n",
    "You need to install the following Python packages:\n",
    "\n",
    "- sentinelhub-py\n",
    "- esprima"
   ]
  },
  {
   "cell_type": "code",
   "execution_count": 1,
   "metadata": {},
   "outputs": [
    {
     "name": "stderr",
     "output_type": "stream",
     "text": [
      "/home/jviehweger/Documents/Projects/2023/nrt/.venv/lib/python3.10/site-packages/tqdm/auto.py:21: TqdmWarning: IProgress not found. Please update jupyter and ipywidgets. See https://ipywidgets.readthedocs.io/en/stable/user_install.html\n",
      "  from .autonotebook import tqdm as notebook_tqdm\n"
     ]
    }
   ],
   "source": [
    "import debug\n",
    "from sentinelhub import (\n",
    "    SentinelHubRequest,\n",
    "    DataCollection,\n",
    "    MimeType,\n",
    "    BBox,\n",
    "    bbox_to_dimensions,\n",
    "    CRS,\n",
    "    SHConfig,\n",
    "    DownloadFailedException\n",
    ")\n",
    "\n",
    "config = SHConfig()"
   ]
  },
  {
   "attachments": {},
   "cell_type": "markdown",
   "metadata": {},
   "source": [
    "## Load evalscript\n",
    "\n",
    "Put your evalscript into the file `script.js` and also edit your evalscript there. Do not rename the file, since it is also accessed by the html files. But first the evalscript is loaded into Python."
   ]
  },
  {
   "cell_type": "code",
   "execution_count": 2,
   "metadata": {},
   "outputs": [],
   "source": [
    "with open(\"script.js\", \"r\") as file:\n",
    "    evalscript = file.read()"
   ]
  },
  {
   "attachments": {},
   "cell_type": "markdown",
   "metadata": {},
   "source": [
    "## Specify SH Request\n",
    "\n",
    "Here you should specify a Sentinel Hub Request."
   ]
  },
  {
   "cell_type": "code",
   "execution_count": 3,
   "metadata": {},
   "outputs": [],
   "source": [
    "bbox_coords = [46.16, -16.15, 46.51, -15.58]\n",
    "crs = CRS.WGS84\n",
    "resolution = 60\n",
    "\n",
    "bbox = BBox(bbox_coords, crs)\n",
    "size = bbox_to_dimensions(bbox, resolution=resolution)\n",
    "\n",
    "request_true_color = SentinelHubRequest(\n",
    "    evalscript=evalscript,\n",
    "    input_data=[\n",
    "        SentinelHubRequest.input_data(\n",
    "            data_collection=DataCollection.SENTINEL2_L2A,\n",
    "            time_interval=(\"2020-01-01\", \"2021-01-01\"),\n",
    "        )\n",
    "    ],\n",
    "    responses=[SentinelHubRequest.output_response(\"default\", MimeType.TIFF)],\n",
    "    bbox=bbox,\n",
    "    size=size,\n",
    "    config=config,\n",
    ")"
   ]
  },
  {
   "attachments": {},
   "cell_type": "markdown",
   "metadata": {},
   "source": [
    "## Get data and save it locally\n",
    "\n",
    "The next section saves `collections` locally so that preProcessScenes can be tested in the browser. It saves the data into `collections.js`."
   ]
  },
  {
   "cell_type": "code",
   "execution_count": null,
   "metadata": {},
   "outputs": [],
   "source": [
    "# Get collections data locally\n",
    "collections = debug.get_collections(request_true_color)\n",
    "# Write the data to a js file to load later\n",
    "with open(\"./local_data/collections.js\", \"w\") as f:\n",
    "    f.write(\"var collections = \"+collections+\"\\n\")"
   ]
  },
  {
   "attachments": {},
   "cell_type": "markdown",
   "metadata": {},
   "source": [
    "You can now open [debug_preProcess.html](./debug_preProcess.html) in the browser. A completely white page should appear. When you hit F12, the debugging console should appear. In it breakpoints can be set and loggers can be specified. If there are any `console.log()` calls in the evalscript, the output will also appear.\n",
    "\n",
    "More info on debugging javascript is available for [Chrome](https://developer.chrome.com/docs/devtools/javascript/) and [Firefox](https://firefox-source-docs.mozilla.org/devtools-user/debugger/).\n",
    "\n",
    "If you make any changes to the `script.js` file, the debug page has to be refreshed (for example using F5). However unless you make changes to the sentinel hub request, the data which was acquired in the previous step does not have to be downloaded again.\n",
    "\n",
    "Once the `preProcessScenes` function is working as intended, the data for the `evaluatePixel()` function can be downloaded. This is done in the next code block. Depending on the amount of data this may take quite a while, however you hopefully only have to do this once."
   ]
  },
  {
   "cell_type": "code",
   "execution_count": 4,
   "metadata": {},
   "outputs": [],
   "source": [
    "# Get example data locally\n",
    "sample, scene = debug.get_sample_scene(request_true_color)\n",
    "# Write the data to a js file to load later\n",
    "with open(\"./local_data/data.js\", \"w\") as f:\n",
    "    f.writelines([\"var sample = \"+sample+\"\\n\", \"var scene = \"+scene, \"\\n\"])"
   ]
  },
  {
   "attachments": {},
   "cell_type": "markdown",
   "metadata": {},
   "source": [
    "To debug the `evaluatePixel()` function open the [debug_evaluatePixel.html](./debug_evaluatePixel.html) file in a browser and use the browser debugging tools again to fix your function."
   ]
  }
 ],
 "metadata": {
  "kernelspec": {
   "display_name": "ipy",
   "language": "python",
   "name": "python3"
  },
  "language_info": {
   "codemirror_mode": {
    "name": "ipython",
    "version": 3
   },
   "file_extension": ".py",
   "mimetype": "text/x-python",
   "name": "python",
   "nbconvert_exporter": "python",
   "pygments_lexer": "ipython3",
   "version": "3.10.6"
  },
  "orig_nbformat": 4,
  "vscode": {
   "interpreter": {
    "hash": "e077f6decc03bcf608caf73ec30369fbe42a8bf40cdbe9960e26478bb731205c"
   }
  }
 },
 "nbformat": 4,
 "nbformat_minor": 2
}
